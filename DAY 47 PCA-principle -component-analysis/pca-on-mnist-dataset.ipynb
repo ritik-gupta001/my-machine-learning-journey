{
 "cells": [
  {
   "cell_type": "code",
   "execution_count": null,
   "id": "fd84b4a9-1150-4337-b618-0edbf62db3fe",
   "metadata": {},
   "outputs": [],
   "source": [
    " # the code is performed in the keggle notebok\n"
   ]
  }
 ],
 "metadata": {
  "kernelspec": {
   "display_name": "Python 3 (ipykernel)",
   "language": "python",
   "name": "python3"
  },
  "language_info": {
   "codemirror_mode": {
    "name": "ipython",
    "version": 3
   },
   "file_extension": ".py",
   "mimetype": "text/x-python",
   "name": "python",
   "nbconvert_exporter": "python",
   "pygments_lexer": "ipython3",
   "version": "3.11.7"
  }
 },
 "nbformat": 4,
 "nbformat_minor": 5
}
