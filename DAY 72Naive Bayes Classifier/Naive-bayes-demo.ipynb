{
 "cells": [
  {
   "cell_type": "code",
   "execution_count": 1,
   "id": "0f44fbe4-25f6-4844-84b2-2877cee2b490",
   "metadata": {},
   "outputs": [],
   "source": [
    "import numpy as np\n",
    "import pandas as pd"
   ]
  },
  {
   "cell_type": "code",
   "execution_count": 3,
   "id": "16b3526f-7a06-4a0c-8ed5-070a2b247587",
   "metadata": {},
   "outputs": [
    {
     "data": {
      "text/html": [
       "<div>\n",
       "<style scoped>\n",
       "    .dataframe tbody tr th:only-of-type {\n",
       "        vertical-align: middle;\n",
       "    }\n",
       "\n",
       "    .dataframe tbody tr th {\n",
       "        vertical-align: top;\n",
       "    }\n",
       "\n",
       "    .dataframe thead th {\n",
       "        text-align: right;\n",
       "    }\n",
       "</style>\n",
       "<table border=\"1\" class=\"dataframe\">\n",
       "  <thead>\n",
       "    <tr style=\"text-align: right;\">\n",
       "      <th></th>\n",
       "      <th>outlook</th>\n",
       "      <th>temp</th>\n",
       "      <th>humidity</th>\n",
       "      <th>wind</th>\n",
       "      <th>play</th>\n",
       "    </tr>\n",
       "  </thead>\n",
       "  <tbody>\n",
       "    <tr>\n",
       "      <th>0</th>\n",
       "      <td>Sunny</td>\n",
       "      <td>Hot</td>\n",
       "      <td>High</td>\n",
       "      <td>Weak</td>\n",
       "      <td>No</td>\n",
       "    </tr>\n",
       "    <tr>\n",
       "      <th>1</th>\n",
       "      <td>Sunny</td>\n",
       "      <td>Hot</td>\n",
       "      <td>High</td>\n",
       "      <td>Strong</td>\n",
       "      <td>No</td>\n",
       "    </tr>\n",
       "    <tr>\n",
       "      <th>2</th>\n",
       "      <td>Overcast</td>\n",
       "      <td>Hot</td>\n",
       "      <td>High</td>\n",
       "      <td>Weak</td>\n",
       "      <td>Yes</td>\n",
       "    </tr>\n",
       "    <tr>\n",
       "      <th>3</th>\n",
       "      <td>Rain</td>\n",
       "      <td>Mild</td>\n",
       "      <td>High</td>\n",
       "      <td>Weak</td>\n",
       "      <td>Yes</td>\n",
       "    </tr>\n",
       "    <tr>\n",
       "      <th>4</th>\n",
       "      <td>Rain</td>\n",
       "      <td>Cool</td>\n",
       "      <td>Normal</td>\n",
       "      <td>Weak</td>\n",
       "      <td>Yes</td>\n",
       "    </tr>\n",
       "    <tr>\n",
       "      <th>5</th>\n",
       "      <td>Rain</td>\n",
       "      <td>Cool</td>\n",
       "      <td>Normal</td>\n",
       "      <td>Strong</td>\n",
       "      <td>No</td>\n",
       "    </tr>\n",
       "    <tr>\n",
       "      <th>6</th>\n",
       "      <td>Overcast</td>\n",
       "      <td>Cool</td>\n",
       "      <td>Normal</td>\n",
       "      <td>Strong</td>\n",
       "      <td>Yes</td>\n",
       "    </tr>\n",
       "    <tr>\n",
       "      <th>7</th>\n",
       "      <td>Sunny</td>\n",
       "      <td>Mild</td>\n",
       "      <td>High</td>\n",
       "      <td>Weak</td>\n",
       "      <td>No</td>\n",
       "    </tr>\n",
       "    <tr>\n",
       "      <th>8</th>\n",
       "      <td>Sunny</td>\n",
       "      <td>Cool</td>\n",
       "      <td>Normal</td>\n",
       "      <td>Weak</td>\n",
       "      <td>Yes</td>\n",
       "    </tr>\n",
       "    <tr>\n",
       "      <th>9</th>\n",
       "      <td>Rain</td>\n",
       "      <td>Mild</td>\n",
       "      <td>Normal</td>\n",
       "      <td>Weak</td>\n",
       "      <td>Yes</td>\n",
       "    </tr>\n",
       "    <tr>\n",
       "      <th>10</th>\n",
       "      <td>Sunny</td>\n",
       "      <td>Mild</td>\n",
       "      <td>Normal</td>\n",
       "      <td>Strong</td>\n",
       "      <td>Yes</td>\n",
       "    </tr>\n",
       "    <tr>\n",
       "      <th>11</th>\n",
       "      <td>Overcast</td>\n",
       "      <td>Mild</td>\n",
       "      <td>High</td>\n",
       "      <td>Strong</td>\n",
       "      <td>Yes</td>\n",
       "    </tr>\n",
       "    <tr>\n",
       "      <th>12</th>\n",
       "      <td>Overcast</td>\n",
       "      <td>Hot</td>\n",
       "      <td>Normal</td>\n",
       "      <td>Weak</td>\n",
       "      <td>Yes</td>\n",
       "    </tr>\n",
       "    <tr>\n",
       "      <th>13</th>\n",
       "      <td>Rain</td>\n",
       "      <td>Mild</td>\n",
       "      <td>High</td>\n",
       "      <td>Strong</td>\n",
       "      <td>No</td>\n",
       "    </tr>\n",
       "  </tbody>\n",
       "</table>\n",
       "</div>"
      ],
      "text/plain": [
       "     outlook  temp humidity    wind play\n",
       "0      Sunny   Hot     High    Weak   No\n",
       "1      Sunny   Hot     High  Strong   No\n",
       "2   Overcast   Hot     High    Weak  Yes\n",
       "3       Rain  Mild     High    Weak  Yes\n",
       "4       Rain  Cool   Normal    Weak  Yes\n",
       "5       Rain  Cool   Normal  Strong   No\n",
       "6   Overcast  Cool   Normal  Strong  Yes\n",
       "7      Sunny  Mild     High    Weak   No\n",
       "8      Sunny  Cool   Normal    Weak  Yes\n",
       "9       Rain  Mild   Normal    Weak  Yes\n",
       "10     Sunny  Mild   Normal  Strong  Yes\n",
       "11  Overcast  Mild     High  Strong  Yes\n",
       "12  Overcast   Hot   Normal    Weak  Yes\n",
       "13      Rain  Mild     High  Strong   No"
      ]
     },
     "execution_count": 3,
     "metadata": {},
     "output_type": "execute_result"
    }
   ],
   "source": [
    "data=pd.read_csv('play_tennis.csv')\n",
    "data.head()\n",
    "data.drop(columns=['day'],inplace=True)\n",
    "data"
   ]
  },
  {
   "cell_type": "code",
   "execution_count": 4,
   "id": "8e866ea7-64c3-4383-986c-314796bec88d",
   "metadata": {},
   "outputs": [],
   "source": [
    "# problem 1\n",
    "# outlook=sunny,temp=hot, humidity=high,wind=weak\n",
    "# play or notplay? "
   ]
  },
  {
   "cell_type": "code",
   "execution_count": 6,
   "id": "f668ef19-07d2-46c2-ac4a-eeea38baa3e8",
   "metadata": {},
   "outputs": [],
   "source": [
    "# solution\n",
    "#p(yes|Sunny ,Hot, High, Weak)=p(Sunny| yes)*p(Hot| yes)*p(High| yes)*p(Weak| yes)*p(yes)\n",
    "#p(No|Sunny ,Hot, High, Weak)=p(Sunny| NO)*p(Hot| No)*p(High| No)*p(Weak| No)*p(No)\n",
    "# compare and decide using map(maximum a posteriori)rule"
   ]
  },
  {
   "cell_type": "code",
   "execution_count": 7,
   "id": "3ca2ff0d-41dc-46d1-8400-f0b4b5a4ebde",
   "metadata": {},
   "outputs": [],
   "source": [
    "# problem 2\n",
    "# outlook=Overcast,temp=cold, humidity=low,wind=weak\n",
    "# play or notplay? "
   ]
  },
  {
   "cell_type": "code",
   "execution_count": 8,
   "id": "7866c7cd-2067-40e8-91ec-842a92d41474",
   "metadata": {},
   "outputs": [],
   "source": [
    "# solution\n",
    "#p(yes|Overcast ,Cold, Low, Weak)=p(Overcast| yes)*p(Cold| yes)*p(Low| yes)*p(Weak| yes)*p(yes)\n",
    "#p(No|Overcast ,Cold, Low, Weak)=p(Overcast| No)*p(Cold| No)*p(Low| No)*p(Weak| No)*p(No)\n",
    "# compare and decide using map(maximum a posteriori)rule"
   ]
  },
  {
   "cell_type": "code",
   "execution_count": 9,
   "id": "6fa07a2b-d64f-4819-a0be-8abd67a5e141",
   "metadata": {},
   "outputs": [],
   "source": [
    "# training phase\n",
    "# lookup table(dictionary).................it is basically a set of probablity\n",
    "# testing phase"
   ]
  },
  {
   "cell_type": "code",
   "execution_count": 10,
   "id": "19e4ab83-9c22-4794-b01f-fc24607ff53e",
   "metadata": {},
   "outputs": [],
   "source": [
    "# p(yes)\n",
    "# p(no)"
   ]
  },
  {
   "cell_type": "code",
   "execution_count": 11,
   "id": "ec48f2aa-0290-429d-b5ed-8751589ea7e9",
   "metadata": {},
   "outputs": [
    {
     "data": {
      "text/plain": [
       "play\n",
       "Yes    9\n",
       "No     5\n",
       "Name: count, dtype: int64"
      ]
     },
     "execution_count": 11,
     "metadata": {},
     "output_type": "execute_result"
    }
   ],
   "source": [
    "data['play'].value_counts()"
   ]
  },
  {
   "cell_type": "code",
   "execution_count": 12,
   "id": "75f3bf6b-3f07-4e7b-addf-9605f9df64b2",
   "metadata": {},
   "outputs": [],
   "source": [
    "py=9/14\n",
    "pn=5/14"
   ]
  },
  {
   "cell_type": "code",
   "execution_count": 13,
   "id": "0e0b1971-8e05-4922-9417-5a2a9aadd3aa",
   "metadata": {},
   "outputs": [
    {
     "name": "stdout",
     "output_type": "stream",
     "text": [
      "0.6428571428571429\n",
      "0.35714285714285715\n"
     ]
    }
   ],
   "source": [
    "print(py)\n",
    "print(pn)"
   ]
  },
  {
   "cell_type": "code",
   "execution_count": 14,
   "id": "171597d2-104f-4aa0-9f22-2e6b17411635",
   "metadata": {},
   "outputs": [
    {
     "data": {
      "text/html": [
       "<div>\n",
       "<style scoped>\n",
       "    .dataframe tbody tr th:only-of-type {\n",
       "        vertical-align: middle;\n",
       "    }\n",
       "\n",
       "    .dataframe tbody tr th {\n",
       "        vertical-align: top;\n",
       "    }\n",
       "\n",
       "    .dataframe thead th {\n",
       "        text-align: right;\n",
       "    }\n",
       "</style>\n",
       "<table border=\"1\" class=\"dataframe\">\n",
       "  <thead>\n",
       "    <tr style=\"text-align: right;\">\n",
       "      <th>play</th>\n",
       "      <th>No</th>\n",
       "      <th>Yes</th>\n",
       "    </tr>\n",
       "    <tr>\n",
       "      <th>outlook</th>\n",
       "      <th></th>\n",
       "      <th></th>\n",
       "    </tr>\n",
       "  </thead>\n",
       "  <tbody>\n",
       "    <tr>\n",
       "      <th>Overcast</th>\n",
       "      <td>0</td>\n",
       "      <td>4</td>\n",
       "    </tr>\n",
       "    <tr>\n",
       "      <th>Rain</th>\n",
       "      <td>2</td>\n",
       "      <td>3</td>\n",
       "    </tr>\n",
       "    <tr>\n",
       "      <th>Sunny</th>\n",
       "      <td>3</td>\n",
       "      <td>2</td>\n",
       "    </tr>\n",
       "  </tbody>\n",
       "</table>\n",
       "</div>"
      ],
      "text/plain": [
       "play      No  Yes\n",
       "outlook          \n",
       "Overcast   0    4\n",
       "Rain       2    3\n",
       "Sunny      3    2"
      ]
     },
     "execution_count": 14,
     "metadata": {},
     "output_type": "execute_result"
    }
   ],
   "source": [
    "#outlook\n",
    "pd.crosstab(data['outlook'],data['play'])"
   ]
  },
  {
   "cell_type": "code",
   "execution_count": 15,
   "id": "b2b3ef3d-6081-4c15-b102-5fb88ebd221c",
   "metadata": {},
   "outputs": [],
   "source": [
    "pon=0\n",
    "prn=2/5\n",
    "psn=3/5\n",
    "\n",
    "poy=4/9\n",
    "pry=3/9\n",
    "psy=2/9"
   ]
  },
  {
   "cell_type": "code",
   "execution_count": 16,
   "id": "239fdaa6-9027-4eec-8efa-4b997ef098a4",
   "metadata": {},
   "outputs": [
    {
     "name": "stdout",
     "output_type": "stream",
     "text": [
      "0\n",
      "0.4\n",
      "0.6\n"
     ]
    }
   ],
   "source": [
    "print(pon)\n",
    "print(prn)\n",
    "print(psn)"
   ]
  },
  {
   "cell_type": "code",
   "execution_count": 17,
   "id": "0313ed27-749f-4a6e-992a-d3fe8d762a00",
   "metadata": {},
   "outputs": [
    {
     "name": "stdout",
     "output_type": "stream",
     "text": [
      "0.4444444444444444\n",
      "0.3333333333333333\n",
      "0.2222222222222222\n"
     ]
    }
   ],
   "source": [
    "print(poy)\n",
    "print(pry)\n",
    "print(psy)\n"
   ]
  },
  {
   "cell_type": "code",
   "execution_count": 18,
   "id": "52748d69-326f-42d8-a7ba-d3b3bf993e40",
   "metadata": {},
   "outputs": [
    {
     "data": {
      "text/html": [
       "<div>\n",
       "<style scoped>\n",
       "    .dataframe tbody tr th:only-of-type {\n",
       "        vertical-align: middle;\n",
       "    }\n",
       "\n",
       "    .dataframe tbody tr th {\n",
       "        vertical-align: top;\n",
       "    }\n",
       "\n",
       "    .dataframe thead th {\n",
       "        text-align: right;\n",
       "    }\n",
       "</style>\n",
       "<table border=\"1\" class=\"dataframe\">\n",
       "  <thead>\n",
       "    <tr style=\"text-align: right;\">\n",
       "      <th>play</th>\n",
       "      <th>No</th>\n",
       "      <th>Yes</th>\n",
       "    </tr>\n",
       "    <tr>\n",
       "      <th>temp</th>\n",
       "      <th></th>\n",
       "      <th></th>\n",
       "    </tr>\n",
       "  </thead>\n",
       "  <tbody>\n",
       "    <tr>\n",
       "      <th>Cool</th>\n",
       "      <td>1</td>\n",
       "      <td>3</td>\n",
       "    </tr>\n",
       "    <tr>\n",
       "      <th>Hot</th>\n",
       "      <td>2</td>\n",
       "      <td>2</td>\n",
       "    </tr>\n",
       "    <tr>\n",
       "      <th>Mild</th>\n",
       "      <td>2</td>\n",
       "      <td>4</td>\n",
       "    </tr>\n",
       "  </tbody>\n",
       "</table>\n",
       "</div>"
      ],
      "text/plain": [
       "play  No  Yes\n",
       "temp         \n",
       "Cool   1    3\n",
       "Hot    2    2\n",
       "Mild   2    4"
      ]
     },
     "execution_count": 18,
     "metadata": {},
     "output_type": "execute_result"
    }
   ],
   "source": [
    "#temperature\n",
    "pd.crosstab(data['temp'],data['play'])"
   ]
  },
  {
   "cell_type": "code",
   "execution_count": 31,
   "id": "fc42a22c-7853-4008-b956-97e2ad4f5929",
   "metadata": {},
   "outputs": [],
   "source": [
    "\n",
    "pCoolno=1/5\n",
    "pHotno=2/5\n",
    "pMildno=2/5\n",
    "\n",
    "pCoolyes=3/9\n",
    "pHotyes=2/9\n",
    "pMildyes=4/9"
   ]
  },
  {
   "cell_type": "code",
   "execution_count": 34,
   "id": "34111e2a-353b-4554-962c-ba9dca22a274",
   "metadata": {},
   "outputs": [
    {
     "name": "stdout",
     "output_type": "stream",
     "text": [
      "0.2\n",
      "0.4\n",
      "0.4\n"
     ]
    }
   ],
   "source": [
    "print(pCoolno)\n",
    "print(pHotno)\n",
    "print(pMildno)"
   ]
  },
  {
   "cell_type": "code",
   "execution_count": 35,
   "id": "5893f727-70ff-4f4a-a915-99d681f7f733",
   "metadata": {},
   "outputs": [
    {
     "name": "stdout",
     "output_type": "stream",
     "text": [
      "0.3333333333333333\n",
      "0.2222222222222222\n",
      "0.4444444444444444\n"
     ]
    }
   ],
   "source": [
    "print(pCoolyes)\n",
    "print(pHotyes)\n",
    "print(pMildyes)"
   ]
  },
  {
   "cell_type": "code",
   "execution_count": 22,
   "id": "5dd8f6cb-4bdc-4ce7-a32c-cf7b7edbff54",
   "metadata": {},
   "outputs": [
    {
     "data": {
      "text/html": [
       "<div>\n",
       "<style scoped>\n",
       "    .dataframe tbody tr th:only-of-type {\n",
       "        vertical-align: middle;\n",
       "    }\n",
       "\n",
       "    .dataframe tbody tr th {\n",
       "        vertical-align: top;\n",
       "    }\n",
       "\n",
       "    .dataframe thead th {\n",
       "        text-align: right;\n",
       "    }\n",
       "</style>\n",
       "<table border=\"1\" class=\"dataframe\">\n",
       "  <thead>\n",
       "    <tr style=\"text-align: right;\">\n",
       "      <th>play</th>\n",
       "      <th>No</th>\n",
       "      <th>Yes</th>\n",
       "    </tr>\n",
       "    <tr>\n",
       "      <th>humidity</th>\n",
       "      <th></th>\n",
       "      <th></th>\n",
       "    </tr>\n",
       "  </thead>\n",
       "  <tbody>\n",
       "    <tr>\n",
       "      <th>High</th>\n",
       "      <td>4</td>\n",
       "      <td>3</td>\n",
       "    </tr>\n",
       "    <tr>\n",
       "      <th>Normal</th>\n",
       "      <td>1</td>\n",
       "      <td>6</td>\n",
       "    </tr>\n",
       "  </tbody>\n",
       "</table>\n",
       "</div>"
      ],
      "text/plain": [
       "play      No  Yes\n",
       "humidity         \n",
       "High       4    3\n",
       "Normal     1    6"
      ]
     },
     "execution_count": 22,
     "metadata": {},
     "output_type": "execute_result"
    }
   ],
   "source": [
    "#Humidity\n",
    "pd.crosstab(data['humidity'],data['play'])"
   ]
  },
  {
   "cell_type": "code",
   "execution_count": 36,
   "id": "5c2cf9db-a587-4dee-9cf3-499c5c37257a",
   "metadata": {},
   "outputs": [],
   "source": [
    "phighNO=4/5\n",
    "pnormalNO=1/5\n",
    "\n",
    "phighYES=3/9\n",
    "pnormalYES=6/9"
   ]
  },
  {
   "cell_type": "code",
   "execution_count": 38,
   "id": "3fb46493-143f-4c13-bbbb-0c908d5b80f4",
   "metadata": {},
   "outputs": [
    {
     "name": "stdout",
     "output_type": "stream",
     "text": [
      "0.8\n",
      "0.2\n"
     ]
    }
   ],
   "source": [
    "print(phighNO)\n",
    "print(pnormalNO)"
   ]
  },
  {
   "cell_type": "code",
   "execution_count": 39,
   "id": "d4b04bcf-3e92-4e66-ba02-10ce32dd5eaf",
   "metadata": {},
   "outputs": [
    {
     "name": "stdout",
     "output_type": "stream",
     "text": [
      "0.3333333333333333\n",
      "0.6666666666666666\n"
     ]
    }
   ],
   "source": [
    "print(phighYES)\n",
    "print(pnormalYES)"
   ]
  },
  {
   "cell_type": "code",
   "execution_count": 26,
   "id": "ee933ca4-6298-4b49-9af8-df3639036661",
   "metadata": {},
   "outputs": [
    {
     "data": {
      "text/html": [
       "<div>\n",
       "<style scoped>\n",
       "    .dataframe tbody tr th:only-of-type {\n",
       "        vertical-align: middle;\n",
       "    }\n",
       "\n",
       "    .dataframe tbody tr th {\n",
       "        vertical-align: top;\n",
       "    }\n",
       "\n",
       "    .dataframe thead th {\n",
       "        text-align: right;\n",
       "    }\n",
       "</style>\n",
       "<table border=\"1\" class=\"dataframe\">\n",
       "  <thead>\n",
       "    <tr style=\"text-align: right;\">\n",
       "      <th>play</th>\n",
       "      <th>No</th>\n",
       "      <th>Yes</th>\n",
       "    </tr>\n",
       "    <tr>\n",
       "      <th>wind</th>\n",
       "      <th></th>\n",
       "      <th></th>\n",
       "    </tr>\n",
       "  </thead>\n",
       "  <tbody>\n",
       "    <tr>\n",
       "      <th>Strong</th>\n",
       "      <td>3</td>\n",
       "      <td>3</td>\n",
       "    </tr>\n",
       "    <tr>\n",
       "      <th>Weak</th>\n",
       "      <td>2</td>\n",
       "      <td>6</td>\n",
       "    </tr>\n",
       "  </tbody>\n",
       "</table>\n",
       "</div>"
      ],
      "text/plain": [
       "play    No  Yes\n",
       "wind           \n",
       "Strong   3    3\n",
       "Weak     2    6"
      ]
     },
     "execution_count": 26,
     "metadata": {},
     "output_type": "execute_result"
    }
   ],
   "source": [
    "#Wind\n",
    "pd.crosstab(data['wind'],data['play'])"
   ]
  },
  {
   "cell_type": "code",
   "execution_count": 41,
   "id": "1161b145-6784-4604-afb1-b83636fc1130",
   "metadata": {},
   "outputs": [],
   "source": [
    "pstrongno=3/5\n",
    "pweakno=2/5\n",
    "\n",
    "pstrongyes=3/9\n",
    "pweakyes=6/9"
   ]
  },
  {
   "cell_type": "code",
   "execution_count": 42,
   "id": "ff1f2838-859a-48a4-9130-f0ac3477201d",
   "metadata": {},
   "outputs": [
    {
     "name": "stdout",
     "output_type": "stream",
     "text": [
      "0.6\n",
      "0.4\n"
     ]
    }
   ],
   "source": [
    "print(pstrongno)\n",
    "print(pweakno)"
   ]
  },
  {
   "cell_type": "code",
   "execution_count": 43,
   "id": "a3a9ed43-bfe4-477d-b334-dcd401f2acb1",
   "metadata": {},
   "outputs": [
    {
     "name": "stdout",
     "output_type": "stream",
     "text": [
      "0.3333333333333333\n",
      "0.6666666666666666\n"
     ]
    }
   ],
   "source": [
    "print(pstrongyes)\n",
    "print(pweakyes)"
   ]
  },
  {
   "cell_type": "code",
   "execution_count": 44,
   "id": "702efa5c-2435-4fc7-b16d-d0ea9b3f4d20",
   "metadata": {},
   "outputs": [],
   "source": [
    " #outlook=sunny,temp=hot, humidity=high,wind=weak\n",
    "pyes=py*psy*pHotyes*phighYES*pweakyes"
   ]
  },
  {
   "cell_type": "code",
   "execution_count": 48,
   "id": "6075b3f6-9e03-4b52-86e1-f0055f92f3e3",
   "metadata": {},
   "outputs": [
    {
     "name": "stdout",
     "output_type": "stream",
     "text": [
      "0.010582010582010581\n"
     ]
    }
   ],
   "source": [
    "print(pyes)"
   ]
  },
  {
   "cell_type": "code",
   "execution_count": 47,
   "id": "0fd9f0f3-d0c5-4009-a9e8-ef568bafe6ba",
   "metadata": {},
   "outputs": [
    {
     "name": "stdout",
     "output_type": "stream",
     "text": [
      "0.02742857142857143\n"
     ]
    }
   ],
   "source": [
    "pno=pn*psn*pHotno*phighNO*pweakno\n",
    "print(pno)"
   ]
  },
  {
   "cell_type": "code",
   "execution_count": 49,
   "id": "be7ac90b-f017-42a4-9f01-30764a6353e5",
   "metadata": {},
   "outputs": [],
   "source": [
    "#since pno>pyes.....this conclude no play!"
   ]
  },
  {
   "cell_type": "code",
   "execution_count": null,
   "id": "2401afa2-5a6a-4009-bc5a-350df4616bc6",
   "metadata": {},
   "outputs": [],
   "source": [
    " "
   ]
  }
 ],
 "metadata": {
  "kernelspec": {
   "display_name": "Python 3 (ipykernel)",
   "language": "python",
   "name": "python3"
  },
  "language_info": {
   "codemirror_mode": {
    "name": "ipython",
    "version": 3
   },
   "file_extension": ".py",
   "mimetype": "text/x-python",
   "name": "python",
   "nbconvert_exporter": "python",
   "pygments_lexer": "ipython3",
   "version": "3.11.7"
  }
 },
 "nbformat": 4,
 "nbformat_minor": 5
}
