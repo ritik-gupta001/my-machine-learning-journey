{
 "cells": [
  {
   "cell_type": "code",
   "execution_count": 1,
   "metadata": {
    "id": "Ss-cQIY42Bws"
   },
   "outputs": [],
   "source": [
    "from sklearn.datasets import fetch_california_housing\r\n",
    "import numpy as np"
   ]
  },
  {
   "cell_type": "code",
   "execution_count": 2,
   "metadata": {
    "id": "L82355oG2MVV"
   },
   "outputs": [],
   "source": [
    "X,y = fetch_california_housing(return_X_y=True)"
   ]
  },
  {
   "cell_type": "code",
   "execution_count": 3,
   "metadata": {
    "colab": {
     "base_uri": "https://localhost:8080/"
    },
    "id": "zGYaqrzb2RGg",
    "outputId": "2e1090cf-b1ec-4b9f-e959-2cfbfa9d8d4c"
   },
   "outputs": [
    {
     "data": {
      "text/plain": [
       "(20640, 8)"
      ]
     },
     "execution_count": 3,
     "metadata": {},
     "output_type": "execute_result"
    }
   ],
   "source": [
    "X.shape"
   ]
  },
  {
   "cell_type": "code",
   "execution_count": 4,
   "metadata": {
    "colab": {
     "base_uri": "https://localhost:8080/"
    },
    "id": "4BaylTL92SUJ",
    "outputId": "81e72b11-c9cc-49ae-ca42-0536e5d924fc"
   },
   "outputs": [
    {
     "data": {
      "text/plain": [
       "(20640,)"
      ]
     },
     "execution_count": 4,
     "metadata": {},
     "output_type": "execute_result"
    }
   ],
   "source": [
    "y.shape"
   ]
  },
  {
   "cell_type": "code",
   "execution_count": 5,
   "metadata": {
    "colab": {
     "base_uri": "https://localhost:8080/"
    },
    "id": "rwgnJR1v2TVe",
    "outputId": "90ce5a18-14ad-410b-f5ad-33d83cabca25"
   },
   "outputs": [
    {
     "data": {
      "text/plain": [
       "array([[   8.3252    ,   41.        ,    6.98412698, ...,    2.55555556,\n",
       "          37.88      , -122.23      ],\n",
       "       [   8.3014    ,   21.        ,    6.23813708, ...,    2.10984183,\n",
       "          37.86      , -122.22      ],\n",
       "       [   7.2574    ,   52.        ,    8.28813559, ...,    2.80225989,\n",
       "          37.85      , -122.24      ],\n",
       "       ...,\n",
       "       [   1.7       ,   17.        ,    5.20554273, ...,    2.3256351 ,\n",
       "          39.43      , -121.22      ],\n",
       "       [   1.8672    ,   18.        ,    5.32951289, ...,    2.12320917,\n",
       "          39.43      , -121.32      ],\n",
       "       [   2.3886    ,   16.        ,    5.25471698, ...,    2.61698113,\n",
       "          39.37      , -121.24      ]])"
      ]
     },
     "execution_count": 5,
     "metadata": {},
     "output_type": "execute_result"
    }
   ],
   "source": [
    "X"
   ]
  },
  {
   "cell_type": "code",
   "execution_count": 6,
   "metadata": {
    "id": "5h38RPz82UFN"
   },
   "outputs": [],
   "source": [
    "from sklearn.linear_model import LinearRegression\r\n",
    "from sklearn.tree import DecisionTreeRegressor\r\n",
    "from sklearn.svm import SVR\r\n",
    "from sklearn.model_selection import cross_val_score"
   ]
  },
  {
   "cell_type": "code",
   "execution_count": 7,
   "metadata": {
    "id": "gnftFxxS2mHq"
   },
   "outputs": [],
   "source": [
    "lr = LinearRegression()\r\n",
    "dt = DecisionTreeRegressor()\r\n",
    "svr = SVR()"
   ]
  },
  {
   "cell_type": "code",
   "execution_count": 8,
   "metadata": {
    "id": "8OzpSAXh2s_y"
   },
   "outputs": [],
   "source": [
    "estimators = [('lr',lr),('dt',dt),('svr',svr)]"
   ]
  },
  {
   "cell_type": "code",
   "execution_count": 14,
   "metadata": {
    "colab": {
     "base_uri": "https://localhost:8080/"
    },
    "id": "4g8F5nQE20B2",
    "outputId": "c110e28e-91d3-40e8-9a27-ddd6fb0d2d16"
   },
   "outputs": [
    {
     "name": "stdout",
     "output_type": "stream",
     "text": [
      "lr 0.51\n",
      "dt 0.25\n",
      "svr -0.25\n"
     ]
    }
   ],
   "source": [
    "for estimator in estimators:\r\n",
    "  scores = cross_val_score(estimator[1],X,y,scoring='r2',cv=10)\r\n",
    "  print(estimator[0],np.round(np.mean(scores),2))"
   ]
  },
  {
   "cell_type": "code",
   "execution_count": 15,
   "metadata": {
    "id": "2ADqXH8s3JHe"
   },
   "outputs": [],
   "source": [
    "from sklearn.ensemble import VotingRegressor"
   ]
  },
  {
   "cell_type": "code",
   "execution_count": 16,
   "metadata": {
    "colab": {
     "base_uri": "https://localhost:8080/"
    },
    "id": "45lcgrE83eDK",
    "outputId": "18c72045-1b49-4f44-866e-5c11fa825c8b"
   },
   "outputs": [
    {
     "name": "stdout",
     "output_type": "stream",
     "text": [
      "Voting Regressor 0.47\n"
     ]
    }
   ],
   "source": [
    "vr = VotingRegressor(estimators)\r\n",
    "scores = cross_val_score(vr,X,y,scoring='r2',cv=10)\r\n",
    "print(\"Voting Regressor\",np.round(np.mean(scores),2))"
   ]
  },
  {
   "cell_type": "code",
   "execution_count": null,
   "metadata": {
    "colab": {
     "base_uri": "https://localhost:8080/"
    },
    "id": "uKeZQxsY3qG1",
    "outputId": "7814cfb7-2c5b-4db9-8f40-cdf2ed797df6"
   },
   "outputs": [
    {
     "name": "stdout",
     "output_type": "stream",
     "text": [
      "For i=1,j=1,k=1 0.47\n",
      "For i=1,j=1,k=2 0.37\n",
      "For i=1,j=1,k=3 0.28\n",
      "For i=1,j=2,k=1 0.48\n",
      "For i=1,j=2,k=2 0.43\n",
      "For i=1,j=2,k=3 0.36\n",
      "For i=1,j=3,k=1 0.46\n",
      "For i=1,j=3,k=2 0.44\n",
      "For i=1,j=3,k=3 0.4\n",
      "For i=2,j=1,k=1 0.52\n",
      "For i=2,j=1,k=2 0.44\n",
      "For i=2,j=1,k=3 0.37\n",
      "For i=2,j=2,k=1 0.53\n",
      "For i=2,j=2,k=2 0.48\n",
      "For i=2,j=2,k=3 0.42\n",
      "For i=2,j=3,k=1 0.51\n",
      "For i=2,j=3,k=2 0.48\n"
     ]
    }
   ],
   "source": [
    "for i in range(1,4):\r\n",
    "  for j in range(1,4):\r\n",
    "    for k in range(1,4):\r\n",
    "      vr = VotingRegressor(estimators,weights=[i,j,k])\r\n",
    "      scores = cross_val_score(vr,X,y,scoring='r2',cv=10)\r\n",
    "      print(\"For i={},j={},k={}\".format(i,j,k),np.round(np.mean(scores),2))\r\n"
   ]
  },
  {
   "cell_type": "code",
   "execution_count": 34,
   "metadata": {
    "id": "xln9JLUh4bMA"
   },
   "outputs": [],
   "source": [
    "# using the same algorithm\r\n",
    "\r\n",
    "dt1 = DecisionTreeRegressor(max_depth=1)\r\n",
    "dt2 = DecisionTreeRegressor(max_depth=3)\r\n",
    "dt3 = DecisionTreeRegressor(max_depth=5)\r\n",
    "dt4 = DecisionTreeRegressor(max_depth=7)\r\n",
    "dt5 = DecisionTreeRegressor(max_depth=None)"
   ]
  },
  {
   "cell_type": "code",
   "execution_count": 35,
   "metadata": {
    "id": "TMNFLtcZ45ZR"
   },
   "outputs": [],
   "source": [
    "estimators = [('dt1',dt1),('dt2',dt2),('dt3',dt3),('dt4',dt4),('dt5',dt5)]"
   ]
  },
  {
   "cell_type": "code",
   "execution_count": 36,
   "metadata": {
    "colab": {
     "base_uri": "https://localhost:8080/"
    },
    "id": "OoNnadMV5PKk",
    "outputId": "618aa32c-b37c-4ab8-a0a1-d20b1e98ab88"
   },
   "outputs": [
    {
     "name": "stdout",
     "output_type": "stream",
     "text": [
      "dt1 -0.85\n",
      "dt2 -0.13\n",
      "dt3 -0.04\n",
      "dt4 -0.19\n",
      "dt5 -0.1\n"
     ]
    }
   ],
   "source": [
    "for estimator in estimators:\r\n",
    "  scores = cross_val_score(estimator[1],X,y,scoring='r2',cv=10)\r\n",
    "  print(estimator[0],np.round(np.mean(scores),2))"
   ]
  },
  {
   "cell_type": "code",
   "execution_count": 37,
   "metadata": {
    "colab": {
     "base_uri": "https://localhost:8080/"
    },
    "id": "dxFmVW2A5EDR",
    "outputId": "8fbdbe55-1ba9-4e15-f3e4-e6d1b9cd98ad"
   },
   "outputs": [
    {
     "name": "stdout",
     "output_type": "stream",
     "text": [
      "Voting Regressor 0.17\n"
     ]
    }
   ],
   "source": [
    "vr = VotingRegressor(estimators)\r\n",
    "scores = cross_val_score(vr,X,y,scoring='r2',cv=10)\r\n",
    "print(\"Voting Regressor\",np.round(np.mean(scores),2))"
   ]
  },
  {
   "cell_type": "code",
   "execution_count": null,
   "metadata": {
    "id": "xCNX58b95KfF"
   },
   "outputs": [],
   "source": []
  }
 ],
 "metadata": {
  "colab": {
   "name": "voting-regressor.ipynb",
   "provenance": []
  },
  "kernelspec": {
   "display_name": "Python 3 (ipykernel)",
   "language": "python",
   "name": "python3"
  },
  "language_info": {
   "codemirror_mode": {
    "name": "ipython",
    "version": 3
   },
   "file_extension": ".py",
   "mimetype": "text/x-python",
   "name": "python",
   "nbconvert_exporter": "python",
   "pygments_lexer": "ipython3",
   "version": "3.11.7"
  }
 },
 "nbformat": 4,
 "nbformat_minor": 4
}
